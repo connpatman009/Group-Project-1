{
 "cells": [
  {
   "cell_type": "markdown",
   "metadata": {},
   "source": [
    "**Code goes below**"
   ]
  },
  {
   "cell_type": "markdown",
   "metadata": {},
   "source": [
    "The code will get the user's name and their favorite hockey team. It will tell them what division their hockey team is in."
   ]
  },
  {
   "cell_type": "code",

   "metadata": {},
   "outputs": [
    {
     "name": "stdin",
     "output_type": "stream",
     "text": [

     ]
    },
    {
     "name": "stdout",
     "output_type": "stream",
     "text": [

     ]
    }
   ],
   "source": [
    "# Get user's name and their favorite hockey team\n",
    "name = input(\"What is your name?\")\n",
    "team = input(\"What is your favorite hockey team? (Enter the team name without the city.)\")\n",
    "team = team.lower()\n",
    "\n",
    "# Figure out which team\n",
    "done = False\n",
    "\n",
    "while not done:\n",
    "    if (team == \"bruins\" or team == \"sabres\" or team == \"red wings\" or team == \"panthers\" or team == \"canadiens\" or team == \"senators\" or team == \"lightning\" or team == \"maple leafs\"):\n",
    "        division = \"Atlantic\"\n",
    "        done = True\n",
    "    elif (team == \"penguins\" or team == \"hurricanes\" or team == \"blue jackets\" or team == \"devils\" or team == \"islanders\" or team == \"rangers\" or team == \"flyers\" or team == \"capitals\"):\n",
    "        division = \"Metropolitan\"\n",
    "        done = True\n",
    "    elif (team == \"blackhawks\" or team == \"avalanche\" or team == \"stars\" or team == \"wild\" or team == \"predators\" or team == \"blues\" or team == \"jets\"):\n",
    "        division = \"Central\"\n",
    "        done = True\n",
    "    elif (team == \"golden knights\" or team == \"ducks\" or team == \"coyotes\" or team == \"flames\" or team == \"oilers\" or team == \"kings\" or team == \"sharks\" or team == \"canucks\"):\n",
    "        division = \"Pacific\"\n",
    "        done = True\n",
    "    else:\n",
    "        print(\"Enter a valid team name, without the city. Names should be plural if applicable.\")\n",
    "        done = False\n",
    "        team = input(\"What is your favorite hockey team? (Enter the team name without the city.)\")\n",
    "\n",
    "# Print out their favorite team's division\n",
    "team = team.capitalize()\n",
    "print(name + \", your favorite team, the\", team, \"are in the\", division, \"Divison.\")"
   ]

  }
 ],
 "metadata": {
  "kernelspec": {
   "display_name": "Python 3.7",
   "language": "python",
   "name": "python3"
  },
  "language_info": {
   "codemirror_mode": {
    "name": "ipython",
    "version": 3
   },
   "file_extension": ".py",
   "mimetype": "text/x-python",
   "name": "python",
   "nbconvert_exporter": "python",
   "pygments_lexer": "ipython3",
   "version": "3.7.0"
  }
 },
 "nbformat": 4,
 "nbformat_minor": 2
}
